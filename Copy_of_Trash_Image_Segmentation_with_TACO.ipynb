{
  "nbformat": 4,
  "nbformat_minor": 0,
  "metadata": {
    "colab": {
      "provenance": []
    },
    "kernelspec": {
      "name": "python3",
      "display_name": "Python 3"
    },
    "accelerator": "TPU",
    "gpuClass": "standard"
  },
  "cells": [
    {
      "cell_type": "code",
      "metadata": {
        "id": "IKCeHQlAHK22",
        "colab": {
          "base_uri": "https://localhost:8080/",
          "height": 764
        },
        "outputId": "06c0e1d0-134c-4ee7-e04b-13aff9a672f9"
      },
      "source": [
        "!pip install -U torch torchvision\n",
        "!pip install git+https://github.com/facebookresearch/fvcore.git\n",
        "import torch, torchvision\n",
        "torch.__version__"
      ],
      "execution_count": null,
      "outputs": [
        {
          "output_type": "stream",
          "name": "stdout",
          "text": [
            "Looking in indexes: https://pypi.org/simple, https://us-python.pkg.dev/colab-wheels/public/simple/\n",
            "Requirement already satisfied: torch in /usr/local/lib/python3.8/dist-packages (1.13.1+cu116)\n",
            "Requirement already satisfied: torchvision in /usr/local/lib/python3.8/dist-packages (0.14.1+cu116)\n",
            "Requirement already satisfied: typing-extensions in /usr/local/lib/python3.8/dist-packages (from torch) (4.5.0)\n",
            "Requirement already satisfied: numpy in /usr/local/lib/python3.8/dist-packages (from torchvision) (1.24.2)\n",
            "Requirement already satisfied: pillow!=8.3.*,>=5.3.0 in /usr/local/lib/python3.8/dist-packages (from torchvision) (8.4.0)\n",
            "Requirement already satisfied: requests in /usr/local/lib/python3.8/dist-packages (from torchvision) (2.25.1)\n",
            "Requirement already satisfied: chardet<5,>=3.0.2 in /usr/local/lib/python3.8/dist-packages (from requests->torchvision) (4.0.0)\n",
            "Requirement already satisfied: urllib3<1.27,>=1.21.1 in /usr/local/lib/python3.8/dist-packages (from requests->torchvision) (1.24.3)\n",
            "Requirement already satisfied: certifi>=2017.4.17 in /usr/local/lib/python3.8/dist-packages (from requests->torchvision) (2022.12.7)\n",
            "Requirement already satisfied: idna<3,>=2.5 in /usr/local/lib/python3.8/dist-packages (from requests->torchvision) (2.10)\n",
            "Looking in indexes: https://pypi.org/simple, https://us-python.pkg.dev/colab-wheels/public/simple/\n",
            "Collecting git+https://github.com/facebookresearch/fvcore.git\n",
            "  Cloning https://github.com/facebookresearch/fvcore.git to /tmp/pip-req-build-qrxxwo8d\n",
            "  Running command git clone --filter=blob:none --quiet https://github.com/facebookresearch/fvcore.git /tmp/pip-req-build-qrxxwo8d\n",
            "  Resolved https://github.com/facebookresearch/fvcore.git to commit 51092b5515cbb493f73de079743dd6b11cc4bbf1\n",
            "  Preparing metadata (setup.py) ... \u001b[?25l\u001b[?25hdone\n",
            "Requirement already satisfied: numpy in /usr/local/lib/python3.8/dist-packages (from fvcore==0.1.6) (1.24.2)\n",
            "Collecting yacs>=0.1.6\n",
            "  Downloading yacs-0.1.8-py3-none-any.whl (14 kB)\n",
            "Requirement already satisfied: pyyaml>=5.1 in /usr/local/lib/python3.8/dist-packages (from fvcore==0.1.6) (6.0)\n",
            "Requirement already satisfied: tqdm in /usr/local/lib/python3.8/dist-packages (from fvcore==0.1.6) (4.64.1)\n",
            "Requirement already satisfied: termcolor>=1.1 in /usr/local/lib/python3.8/dist-packages (from fvcore==0.1.6) (2.2.0)\n",
            "Requirement already satisfied: Pillow in /usr/local/lib/python3.8/dist-packages (from fvcore==0.1.6) (8.4.0)\n",
            "Requirement already satisfied: tabulate in /usr/local/lib/python3.8/dist-packages (from fvcore==0.1.6) (0.8.10)\n",
            "Collecting iopath>=0.1.7\n",
            "  Downloading iopath-0.1.10.tar.gz (42 kB)\n",
            "\u001b[2K     \u001b[90m━━━━━━━━━━━━━━━━━━━━━━━━━━━━━━━━━━━━━━━━\u001b[0m \u001b[32m42.2/42.2 KB\u001b[0m \u001b[31m2.3 MB/s\u001b[0m eta \u001b[36m0:00:00\u001b[0m\n",
            "\u001b[?25h  Preparing metadata (setup.py) ... \u001b[?25l\u001b[?25hdone\n",
            "Requirement already satisfied: typing_extensions in /usr/local/lib/python3.8/dist-packages (from iopath>=0.1.7->fvcore==0.1.6) (4.5.0)\n",
            "Collecting portalocker\n",
            "  Downloading portalocker-2.7.0-py2.py3-none-any.whl (15 kB)\n",
            "Building wheels for collected packages: fvcore, iopath\n",
            "  Building wheel for fvcore (setup.py) ... \u001b[?25l\u001b[?25hdone\n",
            "  Created wheel for fvcore: filename=fvcore-0.1.6-py3-none-any.whl size=65405 sha256=48dee8556f569fa2ad0c65bee29fd7f00f7b1a733f834c5e888dc391bfcddcc1\n",
            "  Stored in directory: /tmp/pip-ephem-wheel-cache-y2p4wx4o/wheels/1c/a9/3c/ff2edce1a1295c72dfff759833097cb1d7713d2f09672d4dd1\n",
            "  Building wheel for iopath (setup.py) ... \u001b[?25l\u001b[?25hdone\n",
            "  Created wheel for iopath: filename=iopath-0.1.10-py3-none-any.whl size=31547 sha256=1a98ffe6dc0e93147f2e52e1361beb0b3778da369fdff5afbbe92d649b57dabc\n",
            "  Stored in directory: /root/.cache/pip/wheels/89/3e/24/0f349c0b2eeb6965903035f3b00dbb5c9bea437b4a2f18d82c\n",
            "Successfully built fvcore iopath\n",
            "Installing collected packages: yacs, portalocker, iopath, fvcore\n",
            "Successfully installed fvcore-0.1.6 iopath-0.1.10 portalocker-2.7.0 yacs-0.1.8\n"
          ]
        },
        {
          "output_type": "execute_result",
          "data": {
            "text/plain": [
              "'1.13.1+cu116'"
            ],
            "application/vnd.google.colaboratory.intrinsic+json": {
              "type": "string"
            }
          },
          "metadata": {},
          "execution_count": 1
        }
      ]
    },
    {
      "cell_type": "code",
      "source": [
        "import os\n",
        "import numpy as np\n",
        "import pprint\n",
        "import json\n",
        "from google.protobuf import text_format\n",
        "import tensorflow as tf\n",
        "from PIL import Image\n",
        "from matplotlib import pyplot as plt\n",
        "from tensorflow.python.util import compat\n",
        "from tensorflow.core.protobuf import saved_model_pb2"
      ],
      "metadata": {
        "id": "HGp7kuJw7GTh"
      },
      "execution_count": null,
      "outputs": []
    },
    {
      "cell_type": "code",
      "metadata": {
        "id": "5l4yq8jLIh10",
        "outputId": "c902ea22-6c20-4895-b180-1b1896850cec",
        "colab": {
          "base_uri": "https://localhost:8080/"
        }
      },
      "source": [
        "# Clone the TACO repository\n",
        "!git clone https://github.com/pedropro/TACO"
      ],
      "execution_count": null,
      "outputs": [
        {
          "output_type": "stream",
          "name": "stdout",
          "text": [
            "Cloning into 'TACO'...\n",
            "remote: Enumerating objects: 740, done.\u001b[K\n",
            "remote: Counting objects: 100% (160/160), done.\u001b[K\n",
            "remote: Compressing objects: 100% (71/71), done.\u001b[K\n",
            "remote: Total 740 (delta 116), reused 132 (delta 89), pack-reused 580\u001b[K\n",
            "Receiving objects: 100% (740/740), 98.85 MiB | 25.92 MiB/s, done.\n",
            "Resolving deltas: 100% (493/493), done.\n",
            "Updating files: 100% (25/25), done.\n"
          ]
        }
      ]
    },
    {
      "cell_type": "code",
      "metadata": {
        "id": "DMNAtgoIUa-r"
      },
      "source": [
        "# Move the folder that contains the JSON annotations to home\n",
        "!cp -r TACO/data ."
      ],
      "execution_count": null,
      "outputs": []
    },
    {
      "cell_type": "code",
      "metadata": {
        "id": "NLDImUKjTaZD",
        "outputId": "7ce83aae-a8ba-4617-e87b-f810a4f9e634",
        "colab": {
          "base_uri": "https://localhost:8080/"
        }
      },
      "source": [
        "# Download the images\n",
        "!python TACO/download.py"
      ],
      "execution_count": null,
      "outputs": [
        {
          "output_type": "stream",
          "name": "stdout",
          "text": [
            "Note. If for any reason the connection is broken. Just call me again and I will start where I left.\n"
          ]
        }
      ]
    },
    {
      "cell_type": "code",
      "execution_count": null,
      "metadata": {
        "execution": {
          "iopub.execute_input": "2020-12-23T18:44:19.461995Z",
          "iopub.status.busy": "2020-12-23T18:44:19.461243Z",
          "iopub.status.idle": "2020-12-23T18:44:42.167163Z",
          "shell.execute_reply": "2020-12-23T18:44:42.166454Z"
        },
        "papermill": {
          "duration": 22.734447,
          "end_time": "2020-12-23T18:44:42.167310",
          "exception": false,
          "start_time": "2020-12-23T18:44:19.432863",
          "status": "completed"
        },
        "tags": [],
        "id": "Quo5AI1F2JpN"
      },
      "outputs": [],
      "source": [
        "# Need to install object_detection library and enlarge labels\n",
        "! rm -rf ./models && git clone https://github.com/tensorflow/models.git \\\n",
        "    && sed -i \"s#ImageFont.truetype('arial.ttf', 24)#ImageFont.truetype('arial.ttf', 50)#g\" ./models/research/object_detection/utils/visualization_utils.py \\\n",
        "    && cp /usr/share/fonts/truetype/dejavu/DejaVuSans.ttf /usr/share/fonts/truetype/dejavu/arial.ttf"
      ]
    },
    {
      "cell_type": "code",
      "execution_count": null,
      "metadata": {
        "execution": {
          "iopub.execute_input": "2020-12-23T18:44:42.281716Z",
          "iopub.status.busy": "2020-12-23T18:44:42.270265Z",
          "iopub.status.idle": "2020-12-23T18:45:27.800977Z",
          "shell.execute_reply": "2020-12-23T18:45:27.801533Z"
        },
        "papermill": {
          "duration": 45.588735,
          "end_time": "2020-12-23T18:45:27.801755",
          "exception": false,
          "start_time": "2020-12-23T18:44:42.213020",
          "status": "completed"
        },
        "tags": [],
        "id": "TRb_MtMn2JpO"
      },
      "outputs": [],
      "source": [
        "# install object_detection library\n",
        "! cd models/research \\\n",
        "    && protoc object_detection/protos/*.proto --python_out=. \\\n",
        "    && cp object_detection/packages/tf2/setup.py . && \\\n",
        "    python3 -m pip install --use-feature=2020-resolver ."
      ]
    },
    {
      "cell_type": "code",
      "execution_count": null,
      "metadata": {
        "execution": {
          "iopub.execute_input": "2020-12-23T18:45:28.003135Z",
          "iopub.status.busy": "2020-12-23T18:45:28.001589Z",
          "iopub.status.idle": "2020-12-23T18:45:28.113530Z",
          "shell.execute_reply": "2020-12-23T18:45:28.112725Z"
        },
        "papermill": {
          "duration": 0.217583,
          "end_time": "2020-12-23T18:45:28.113661",
          "exception": false,
          "start_time": "2020-12-23T18:45:27.896078",
          "status": "completed"
        },
        "tags": [],
        "id": "wU9xfmCI2JpP"
      },
      "outputs": [],
      "source": [
        "from object_detection.utils import visualization_utils as vis_util\n",
        "from object_detection.utils import dataset_util, label_map_util\n",
        "from object_detection.protos import string_int_label_map_pb2"
      ]
    },
    {
      "cell_type": "code",
      "execution_count": null,
      "metadata": {
        "execution": {
          "iopub.execute_input": "2020-12-23T18:45:28.317865Z",
          "iopub.status.busy": "2020-12-23T18:45:28.317140Z",
          "iopub.status.idle": "2020-12-23T18:45:28.320661Z",
          "shell.execute_reply": "2020-12-23T18:45:28.320087Z"
        },
        "papermill": {
          "duration": 0.110878,
          "end_time": "2020-12-23T18:45:28.320792",
          "exception": false,
          "start_time": "2020-12-23T18:45:28.209914",
          "status": "completed"
        },
        "tags": [],
        "id": "MjFhBgxX2JpP"
      },
      "outputs": [],
      "source": [
        "# reconstruct frozen graph\n",
        "def reconstruct(pb_path):\n",
        "    if not os.path.isfile(pb_path):\n",
        "        print(\"Error: %s not found\" % pb_path)\n",
        "\n",
        "    print(\"Reconstructing Tensorflow model\")\n",
        "    detection_graph = tf.Graph()\n",
        "    with detection_graph.as_default():\n",
        "        od_graph_def = tf.compat.v1.GraphDef()\n",
        "        with tf.io.gfile.GFile(pb_path, 'rb') as fid:\n",
        "            serialized_graph = fid.read()\n",
        "            od_graph_def.ParseFromString(serialized_graph)\n",
        "            tf.import_graph_def(od_graph_def, name='')\n",
        "    print(\"Success!\")\n",
        "    return detection_graph"
      ]
    },
    {
      "cell_type": "code",
      "execution_count": null,
      "metadata": {
        "_cell_guid": "79c7e3d0-c299-4dcb-8224-4455121ee9b0",
        "_uuid": "d629ff2d2480ee46fbb7e2d37f6b5fab8052498a",
        "execution": {
          "iopub.execute_input": "2020-12-23T18:45:28.517214Z",
          "iopub.status.busy": "2020-12-23T18:45:28.516517Z",
          "iopub.status.idle": "2020-12-23T18:45:28.540703Z",
          "shell.execute_reply": "2020-12-23T18:45:28.541327Z"
        },
        "papermill": {
          "duration": 0.127284,
          "end_time": "2020-12-23T18:45:28.541509",
          "exception": false,
          "start_time": "2020-12-23T18:45:28.414225",
          "status": "completed"
        },
        "tags": [],
        "id": "zxkUxyRx2JpP"
      },
      "outputs": [],
      "source": [
        "# visualize detection\n",
        "def image2np(image):\n",
        "    (w, h) = image.size\n",
        "    return np.array(image.getdata()).reshape((h, w, 3)).astype(np.uint8)\n",
        "\n",
        "def image2tensor(image):\n",
        "    npim = image2np(image)\n",
        "    return np.expand_dims(npim, axis=0)\n",
        "\n",
        "%matplotlib inline\n",
        "def detect(detection_graph, test_image_path):\n",
        "    with detection_graph.as_default():\n",
        "        gpu_options = tf.compat.v1.GPUOptions(per_process_gpu_memory_fraction=0.01)\n",
        "        with tf.compat.v1.Session(graph=detection_graph,config=tf.compat.v1.ConfigProto(gpu_options=gpu_options)) as sess:\n",
        "            image_tensor = detection_graph.get_tensor_by_name('image_tensor:0')\n",
        "            detection_boxes = detection_graph.get_tensor_by_name('detection_boxes:0')\n",
        "            detection_scores = detection_graph.get_tensor_by_name('detection_scores:0')\n",
        "            detection_classes = detection_graph.get_tensor_by_name('detection_classes:0')\n",
        "            num_detections = detection_graph.get_tensor_by_name('num_detections:0')\n",
        "\n",
        "            image = Image.open(test_image_path)\n",
        "            (boxes, scores, classes, num) = sess.run(\n",
        "                [detection_boxes, detection_scores, detection_classes, num_detections],\n",
        "                feed_dict={image_tensor: image2tensor(image)}\n",
        "            )\n",
        "\n",
        "            npim = image2np(image)\n",
        "            vis_util.visualize_boxes_and_labels_on_image_array(\n",
        "                npim,\n",
        "                np.squeeze(boxes),\n",
        "                np.squeeze(classes).astype(np.int32),\n",
        "                np.squeeze(scores),\n",
        "                category_index,\n",
        "                use_normalized_coordinates=True,\n",
        "                line_thickness=15)\n",
        "            plt.figure(figsize=(12, 8))\n",
        "            plt.imshow(npim)\n",
        "            plt.show()"
      ]
    },
    {
      "cell_type": "code",
      "execution_count": null,
      "metadata": {
        "execution": {
          "iopub.execute_input": "2020-12-23T18:45:29.116054Z",
          "iopub.status.busy": "2020-12-23T18:45:29.115094Z",
          "iopub.status.idle": "2020-12-23T18:45:29.118229Z",
          "shell.execute_reply": "2020-12-23T18:45:29.117716Z"
        },
        "papermill": {
          "duration": 0.10422,
          "end_time": "2020-12-23T18:45:29.118346",
          "exception": false,
          "start_time": "2020-12-23T18:45:29.014126",
          "status": "completed"
        },
        "tags": [],
        "id": "nu3U0AkY2JpR"
      },
      "outputs": [],
      "source": [
        "DATA_DIR = '/content/TACO/data'\n",
        "ANNOTATIONS_FILE = os.path.join(DATA_DIR, 'annotations.json')\n",
        "NCLASSES = 60"
      ]
    },
    {
      "cell_type": "code",
      "execution_count": null,
      "metadata": {
        "execution": {
          "iopub.execute_input": "2020-12-23T18:45:29.314165Z",
          "iopub.status.busy": "2020-12-23T18:45:29.313511Z",
          "iopub.status.idle": "2020-12-23T18:45:29.800870Z",
          "shell.execute_reply": "2020-12-23T18:45:29.801511Z"
        },
        "papermill": {
          "duration": 0.588797,
          "end_time": "2020-12-23T18:45:29.801697",
          "exception": false,
          "start_time": "2020-12-23T18:45:29.212900",
          "status": "completed"
        },
        "tags": [],
        "id": "NHY90NkR2JpR"
      },
      "outputs": [],
      "source": [
        "with open(ANNOTATIONS_FILE) as json_file:\n",
        "    data = json.load(json_file)\n",
        "    \n",
        "categories = data['categories']"
      ]
    },
    {
      "cell_type": "code",
      "execution_count": null,
      "metadata": {
        "execution": {
          "iopub.execute_input": "2020-12-23T18:45:29.994946Z",
          "iopub.status.busy": "2020-12-23T18:45:29.994184Z",
          "iopub.status.idle": "2020-12-23T18:45:30.030228Z",
          "shell.execute_reply": "2020-12-23T18:45:30.031079Z"
        },
        "papermill": {
          "duration": 0.134128,
          "end_time": "2020-12-23T18:45:30.031325",
          "exception": false,
          "start_time": "2020-12-23T18:45:29.897197",
          "status": "completed"
        },
        "tags": [],
        "id": "AbPS9H2R2JpS"
      },
      "outputs": [],
      "source": [
        "print('Building label map from examples')\n",
        "\n",
        "labelmap = string_int_label_map_pb2.StringIntLabelMap()\n",
        "for idx,category in enumerate(categories):\n",
        "    item = labelmap.item.add()\n",
        "    # label map id 0 is reserved for the background label\n",
        "    item.id = int(category['id'])+1\n",
        "    item.name = category['name']\n",
        "\n",
        "with open('./labelmap.pbtxt', 'w') as f:\n",
        "    f.write(text_format.MessageToString(labelmap))\n",
        "\n",
        "print('Label map witten to labelmap.pbtxt')\n",
        "\n",
        "with open('./labelmap.pbtxt') as f:\n",
        "    pprint.pprint(f.readlines())"
      ]
    },
    {
      "cell_type": "code",
      "source": [
        "label_map = label_map_util.load_labelmap('labelmap.pbtxt')\n",
        "categories = label_map_util.convert_label_map_to_categories(label_map, max_num_classes=NCLASSES, use_display_name=True)\n",
        "category_index = label_map_util.create_category_index(categories)"
      ],
      "metadata": {
        "id": "YF2vMspa22Mp"
      },
      "execution_count": null,
      "outputs": []
    },
    {
      "cell_type": "code",
      "source": [
        "detection_graph = reconstruct(\"/content/input/trained_models/ssd_mobilenet_v2_taco_2018_03_29.pb\")"
      ],
      "metadata": {
        "id": "AUqMhjyj26GI"
      },
      "execution_count": null,
      "outputs": []
    },
    {
      "cell_type": "code",
      "source": [
        "detect(detection_graph, '/content/data/batch_1/000000.jpg')"
      ],
      "metadata": {
        "id": "YKknhI75Bk68"
      },
      "execution_count": null,
      "outputs": []
    },
    {
      "cell_type": "code",
      "source": [
        "detect(detection_graph, '/content/data/batch_3/IMG_4852.JPG')"
      ],
      "metadata": {
        "id": "UJ-C0olJEiB-"
      },
      "execution_count": null,
      "outputs": []
    },
    {
      "cell_type": "code",
      "source": [
        "detect(detection_graph, '/content/data/batch_5/000000.JPG')"
      ],
      "metadata": {
        "id": "0oeKwLKcEmEC"
      },
      "execution_count": null,
      "outputs": []
    },
    {
      "cell_type": "code",
      "source": [
        "detect(detection_graph, '/content/data/batch_6/000000.JPG')"
      ],
      "metadata": {
        "id": "0fsFXYw4EuVj"
      },
      "execution_count": null,
      "outputs": []
    },
    {
      "cell_type": "code",
      "source": [
        "detect(detection_graph, '/content/data/batch_1/000001.jpg')"
      ],
      "metadata": {
        "id": "AbbV7iK7E_RC"
      },
      "execution_count": null,
      "outputs": []
    },
    {
      "cell_type": "code",
      "source": [
        "detect(detection_graph, '/content/data/batch_1/000003.jpg')"
      ],
      "metadata": {
        "id": "w1UU8l32FZry"
      },
      "execution_count": null,
      "outputs": []
    },
    {
      "cell_type": "code",
      "source": [
        "detect(detection_graph, '/content/data/batch_1/000010.jpg')"
      ],
      "metadata": {
        "id": "nSXuCqTNFjhr"
      },
      "execution_count": null,
      "outputs": []
    },
    {
      "cell_type": "code",
      "source": [
        "! rm -rf ./models"
      ],
      "metadata": {
        "id": "66XcXUZiFmu7"
      },
      "execution_count": null,
      "outputs": []
    },
    {
      "cell_type": "code",
      "source": [],
      "metadata": {
        "id": "qsLCKAb2GNiO"
      },
      "execution_count": null,
      "outputs": []
    }
  ]
}